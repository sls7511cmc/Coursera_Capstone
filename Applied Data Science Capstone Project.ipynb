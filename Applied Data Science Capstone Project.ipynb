{
    "cells": [
        {
            "cell_type": "markdown",
            "metadata": {
                "collapsed": true
            },
            "source": "## Applied Data Science Capstone Project - Battle of the Neighorhoods\nWe are finally here! This notebook will show the application of machine learning algorithms based on the following scenario. Because of a job change to a different area, the goal is to determine the best neighborhood centered on location and other amenities in different communities close to the new work location.   I will utilize location data provided by Foursquare and machine learning to evaluate each neighborhood and build the model.  \n\nAlso, the process will include:\n    1. Creating and publishing the dataset to my GitHub account\n    2. Using the data to build the machine learning solution\n    3. Finanilizing the best neighborhood model\nFirst, I'll load the Panda libraries, say Hello, and load to GitHub."
        },
        {
            "cell_type": "markdown",
            "metadata": {},
            "source": "#Import librariesLoc\nimport pandas as pd\nimport numpy as np"
        },
        {
            "cell_type": "code",
            "execution_count": 1,
            "metadata": {},
            "outputs": [
                {
                    "name": "stdout",
                    "output_type": "stream",
                    "text": "Hello Capstone Project Course!\n"
                }
            ],
            "source": "#Let's say Hello\nprint (\"Hello Capstone Project Course!\")"
        },
        {
            "cell_type": "code",
            "execution_count": null,
            "metadata": {},
            "outputs": [],
            "source": ""
        }
    ],
    "metadata": {
        "kernelspec": {
            "display_name": "Python 3.6",
            "language": "python",
            "name": "python3"
        },
        "language_info": {
            "codemirror_mode": {
                "name": "ipython",
                "version": 3
            },
            "file_extension": ".py",
            "mimetype": "text/x-python",
            "name": "python",
            "nbconvert_exporter": "python",
            "pygments_lexer": "ipython3",
            "version": "3.6.9"
        }
    },
    "nbformat": 4,
    "nbformat_minor": 1
}